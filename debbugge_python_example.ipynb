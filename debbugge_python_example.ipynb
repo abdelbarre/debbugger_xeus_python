{
 "cells": [
  {
   "cell_type": "markdown",
   "metadata": {},
   "source": [
    "\n",
    "\n",
    "<div style=\"text-align: center; line-height: 0; padding-top: 9px;\">\n",
    "  <img src=\"./img/logo.png\" alt=\"Header\" style=\"width:900px; height: 200px\">\n",
    "</div>\n",
    "\n"
   ]
  },
  {
   "cell_type": "markdown",
   "metadata": {},
   "source": [
    "\n",
    "## Debbugger for JupyterLab - Notebook Example\n",
    "\n",
    "#### Today, I will show you the further steps to install the first public release of the Jupyter visual debugger!, and handling 3 examples\n",
    "\n",
    "#### This is just the first release, but we can already set breakpoints in notebook cells and source files, inspect variables, navigate the call stack and more.\n",
    "\n",
    "### Steps shown in this Notebook:\n",
    "* #### Dubbugger extension Installation \n",
    "* #### Xeus-python Installation, the first Jupyter Kernel to support debugging\n",
    "* #### 1st Example : Debbugging function\n",
    "* #### 2nd Example : Dubbugging dataframe (Pandas)\n",
    "* #### 3rd example : Handling The new Xeus-python kernel (+ Bonus)\n"
   ]
  },
  {
   "cell_type": "markdown",
   "metadata": {},
   "source": [
    "## Dubbugger extension Installation"
   ]
  },
  {
   "cell_type": "markdown",
   "metadata": {},
   "source": [
    "#### To install Debbugging extension in jupyterlab the following command.\n",
    "\n"
   ]
  },
  {
   "cell_type": "markdown",
   "metadata": {},
   "source": [
    "```sh\n",
    " $ jupyter labextension install @jupyterlab/debugger \n",
    "\n",
    "```"
   ]
  },
  {
   "cell_type": "markdown",
   "metadata": {},
   "source": [
    "### You will see a small icon 🐞 in jupyterlab environnement (in top-right)\n",
    "\n",
    "<div style=\"text-align: center; line-height: 0; padding-top: 9px;\">\n",
    "  <img src=\"./img/extention.png\" alt=\"dubbegger_extention\" style=\"width:1200px; height: 200px\">\n",
    "</div>\n"
   ]
  },
  {
   "cell_type": "markdown",
   "metadata": {},
   "source": [
    "## Xeus-python Installation, the first Jupyter Kernel to support debugging"
   ]
  },
  {
   "cell_type": "markdown",
   "metadata": {},
   "source": [
    "\n",
    "<div style=\"text-align: left; line-height: 0; padding-top: 9px;padding-left: 9px;\">\n",
    "  <img src=\"./img/xeus-python_.jpg\" alt=\"xeus\" style=\"width:400px; height: 200px\">\n",
    "</div>"
   ]
  },
  {
   "cell_type": "markdown",
   "metadata": {},
   "source": [
    "## What is Xeus :\n",
    "\n",
    "#### Xeus is a C++ implementation of the Jupyter kernel protocol. It is not a kernel by itself but a library that helps kernel authoring. \n",
    "\n",
    "#### Xeus is very helpful when developing a kernel for a language that has a C or a C++API (Python, Lua, SQL, etc.). \n",
    "#### It takes the cumbersome task of implementing the Jupyter messaging protocol for you so you just can focus on the core interpreter tasks: executing code, inspecting, completing, etc.\n"
   ]
  },
  {
   "cell_type": "markdown",
   "metadata": {},
   "source": [
    "## Xeus-python installation "
   ]
  },
  {
   "cell_type": "markdown",
   "metadata": {},
   "source": [
    "### Installing from conda and Pypi"
   ]
  },
  {
   "cell_type": "markdown",
   "metadata": {},
   "source": [
    "## conda \n",
    "\n",
    "```sh\n",
    "$ conda install xeus-python notebook -c conda-forge\n",
    "```"
   ]
  },
  {
   "cell_type": "markdown",
   "metadata": {},
   "source": [
    "## Pypi"
   ]
  },
  {
   "cell_type": "markdown",
   "metadata": {},
   "source": [
    "```sh\n",
    "$ pip install xeus-python notebook\n",
    "```"
   ]
  },
  {
   "cell_type": "markdown",
   "metadata": {},
   "source": [
    "```Note: the wheels uploaded on PyPI are experimental. ```"
   ]
  },
  {
   "cell_type": "markdown",
   "metadata": {},
   "source": [
    "#### After installing Xeus-python lib we shoud have Xpyton kernel added into JupyterLab\n",
    "\n",
    "<div style=\"text-align: center; line-height: 0; padding-top: 9px;\">\n",
    "  <img src=\"./img/xeus.gif\" alt=\"kernel based on xeus\" style=\"width:1000px; height: 600px\">\n",
    "</div>\n"
   ]
  },
  {
   "cell_type": "markdown",
   "metadata": {},
   "source": [
    "## 1st Example : Debbugging function\n"
   ]
  },
  {
   "cell_type": "code",
   "execution_count": 2,
   "metadata": {},
   "outputs": [
    {
     "name": "stdout",
     "output_type": "stream",
     "text": [
      "Inside the function local result :  200\n",
      "Outside the function global result :  0\n"
     ]
    }
   ],
   "source": [
    "## Function example  \n",
    "result = 0; # This is global variable.\n",
    "# Function definition is here\n",
    "def multi( arg1, arg2 ):\n",
    "   # multiply both the parameters and return them.\"\n",
    "   result = arg1 * arg2; # Here total is local variable.\n",
    "   print (\"Inside the function local result : \", result)\n",
    "   return result;\n",
    "\n",
    "# Now you can call multiplication function\n",
    "multi( 10, 20 );\n",
    "print (\"Outside the function global result : \", result )"
   ]
  },
  {
   "cell_type": "markdown",
   "metadata": {},
   "source": [
    "## 2nd Example : Debbugging dataframe (Pandas)"
   ]
  },
  {
   "cell_type": "code",
   "execution_count": 3,
   "metadata": {},
   "outputs": [
    {
     "data": {
      "text/html": [
       "<div>\n",
       "<style scoped>\n",
       "    .dataframe tbody tr th:only-of-type {\n",
       "        vertical-align: middle;\n",
       "    }\n",
       "\n",
       "    .dataframe tbody tr th {\n",
       "        vertical-align: top;\n",
       "    }\n",
       "\n",
       "    .dataframe thead th {\n",
       "        text-align: right;\n",
       "    }\n",
       "</style>\n",
       "<table border=\"1\" class=\"dataframe\">\n",
       "  <thead>\n",
       "    <tr style=\"text-align: right;\">\n",
       "      <th></th>\n",
       "      <th>Name</th>\n",
       "      <th>marks</th>\n",
       "    </tr>\n",
       "  </thead>\n",
       "  <tbody>\n",
       "    <tr>\n",
       "      <td>rank1</td>\n",
       "      <td>Imrane</td>\n",
       "      <td>99</td>\n",
       "    </tr>\n",
       "    <tr>\n",
       "      <td>rank2</td>\n",
       "      <td>Philippe</td>\n",
       "      <td>98</td>\n",
       "    </tr>\n",
       "    <tr>\n",
       "      <td>rank3</td>\n",
       "      <td>Mohammed</td>\n",
       "      <td>95</td>\n",
       "    </tr>\n",
       "    <tr>\n",
       "      <td>rank4</td>\n",
       "      <td>Abdelbarre</td>\n",
       "      <td>90</td>\n",
       "    </tr>\n",
       "  </tbody>\n",
       "</table>\n",
       "</div>"
      ],
      "text/latex": [
       "None"
      ],
      "text/plain": [
       "             Name  marks\n",
       "rank1      Imrane     99\n",
       "rank2    Philippe     98\n",
       "rank3    Mohammed     95\n",
       "rank4  Abdelbarre     90"
      ]
     },
     "execution_count": 3,
     "metadata": {},
     "output_type": "execute_result"
    }
   ],
   "source": [
    "# dataframe example \n",
    "# DataFrame using arrays. \n",
    "import pandas as pd \n",
    "  \n",
    "# initialise data of lists. \n",
    "data = {'Name':['Imrane', 'Philippe', 'Mohammed', 'Abdelbarre'], 'marks':[99, 98, 95, 90]} \n",
    "  \n",
    "# Creates pandas DataFrame. \n",
    "df = pd.DataFrame(data, index =['rank1', 'rank2', 'rank3', 'rank4']) \n",
    "  \n",
    "# print the data \n",
    "df "
   ]
  },
  {
   "cell_type": "markdown",
   "metadata": {},
   "source": [
    "## 3rd example : Handling The new Xeus-python kernel (Bonus 🔭 )"
   ]
  },
  {
   "cell_type": "markdown",
   "metadata": {},
   "source": [
    "#### code completion"
   ]
  },
  {
   "cell_type": "code",
   "execution_count": 5,
   "metadata": {},
   "outputs": [
    {
     "name": "stdout",
     "output_type": "stream",
     "text": [
      "Inside the function local result :  75\n"
     ]
    },
    {
     "data": {
      "text/plain": [
       "75"
      ]
     },
     "execution_count": 5,
     "metadata": {},
     "output_type": "execute_result"
    }
   ],
   "source": [
    "## Example of completion \n",
    "import pandas as pnd\n",
    "import numpy as np\n",
    "### Function \n",
    "multi(3,25)"
   ]
  },
  {
   "cell_type": "markdown",
   "metadata": {},
   "source": [
    "## Bonus: Real-time communication for the web\n",
    "#### The ipywebrtc is WebRTC and MediaStream API exposed in the Jupyter notebook/lab\n",
    "### What is WebRTC\n",
    "#### With WebRTC, you can add real-time communication capabilities to your application that works on top of an open standard. It supports video, voice, and generic data to be sent between peers, allowing developers to build powerful voice- and video-communication solutions."
   ]
  },
  {
   "cell_type": "markdown",
   "metadata": {},
   "source": [
    "### Installing Using Pypi"
   ]
  },
  {
   "cell_type": "markdown",
   "metadata": {},
   "source": [
    "```sh\n",
    "$ pip install ipywebrtc\n",
    "```"
   ]
  },
  {
   "cell_type": "markdown",
   "metadata": {},
   "source": [
    "#### Play Stream Video"
   ]
  },
  {
   "cell_type": "code",
   "execution_count": 6,
   "metadata": {},
   "outputs": [],
   "source": [
    "from ipywebrtc import VideoStream"
   ]
  },
  {
   "cell_type": "code",
   "execution_count": 7,
   "metadata": {},
   "outputs": [
    {
     "data": {
      "application/vnd.jupyter.widget-view+json": {
       "model_id": "a7c2efbf00de40acb86185beb64957fe",
       "version_major": 2,
       "version_minor": 0
      },
      "text/plain": [
       "VideoStream(video=Video(value=b'\\x00\\x00\\x00 ftypisom\\x00\\x00\\x02\\x00isomiso2avc1mp41\\x00\\x00\\x00\\x08free\\x00\\…"
      ]
     },
     "metadata": {},
     "output_type": "display_data"
    }
   ],
   "source": [
    "from ipywebrtc import VideoStream\n",
    "# commented out since it increases the size of the notebook a lot, you can connect this part with you azure/aws /google storage account\n",
    "video = VideoStream.from_file('./data/mars_nasa.mp4')\n",
    "video"
   ]
  },
  {
   "cell_type": "markdown",
   "metadata": {},
   "source": [
    "### CameraStream"
   ]
  },
  {
   "cell_type": "markdown",
   "metadata": {},
   "source": [
    "#### in this example we will call  cameraStream using ipywebrtc"
   ]
  },
  {
   "cell_type": "code",
   "execution_count": null,
   "metadata": {},
   "outputs": [],
   "source": [
    "from ipywebrtc import CameraStream, ImageRecorder, VideoStream, VideoRecorder"
   ]
  },
  {
   "cell_type": "code",
   "execution_count": null,
   "metadata": {},
   "outputs": [],
   "source": [
    "from ipywebrtc import CameraStream, ImageRecorder\n",
    "camera = CameraStream(constraints=\n",
    "                      {'facing_mode': 'user',\n",
    "                       'audio': False,\n",
    "                       'video': { 'width': 700, 'height': 350 } ## You can change the width and height\n",
    "                       })\n",
    "camera"
   ]
  },
  {
   "cell_type": "markdown",
   "metadata": {},
   "source": [
    "## video recorder"
   ]
  },
  {
   "cell_type": "code",
   "execution_count": null,
   "metadata": {},
   "outputs": [],
   "source": [
    "## Based on camera streaming this part will save a video and store it in you storage account \n",
    "## local/cloud storage such as azure blob storage"
   ]
  },
  {
   "cell_type": "code",
   "execution_count": null,
   "metadata": {},
   "outputs": [],
   "source": [
    "recorder = VideoRecorder(stream=camera)\n",
    "recorder"
   ]
  },
  {
   "cell_type": "code",
   "execution_count": null,
   "metadata": {},
   "outputs": [],
   "source": [
    "## To save camera stream \n",
    "recorder.recording = True\n",
    "recorder.save('my_video.webm')"
   ]
  },
  {
   "cell_type": "markdown",
   "metadata": {},
   "source": [
    "### Here is the result of nootbook when all compenents was correctelly installed and well configured "
   ]
  },
  {
   "cell_type": "markdown",
   "metadata": {},
   "source": [
    "<div style=\"text-align: center; line-height: 0; padding-top: 9px;\">\n",
    "  <img src=\"./img/notebook_.gif\" alt=\"general_review\" style=\"width:1000px; height: 600px\">\n",
    "</div>"
   ]
  },
  {
   "cell_type": "markdown",
   "metadata": {},
   "source": [
    "### Useful references to read : \n",
    "\n",
    "#### 1 - more about visual debbugger : https://blog.jupyter.org/a-visual-debugger-for-jupyter-914e61716559\n",
    "#### 2 - more about Xeus : https://blog.jupyter.org/a-new-python-kernel-for-jupyter-fcdf211e30a8 \n",
    "#### 3 - more about ipywebrtc https://ipywebrtc.readthedocs.io/en/latest/VideoStream.html\n",
    "#### 4 - more about webRTC https://webrtc.org/getting-started/media-capture-and-constraints\n"
   ]
  }
 ],
 "metadata": {
  "kernelspec": {
   "display_name": "xpython",
   "language": "python",
   "name": "xpython"
  },
  "language_info": {
   "file_extension": ".py",
   "mimetype": "text/x-python",
   "name": "python",
   "version": "3.7.6"
  }
 },
 "nbformat": 4,
 "nbformat_minor": 4
}
